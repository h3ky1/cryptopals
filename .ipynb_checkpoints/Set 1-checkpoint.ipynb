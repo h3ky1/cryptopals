{
 "cells": [
  {
   "cell_type": "markdown",
   "metadata": {},
   "source": [
    "## Set 1 - Challenge 1\n",
    "\n",
    "### Convert hex to base64\n",
    "\n",
    "The string:\n",
    "\n",
    "> 49276d206b696c6c696e6720796f757220627261696e206c696b65206120706f69736f6e6f7573206d757368726f6f6d\n",
    "\n",
    "Should produce:\n",
    "\n",
    "> SSdtIGtpbGxpbmcgeW91ciBicmFpbiBsaWtlIGEgcG9pc29ub3VzIG11c2hyb29t\n",
    "\n",
    "So go ahead and make that happen. You'll need to use this code for the rest of the exercises. "
   ]
  },
  {
   "cell_type": "code",
   "execution_count": 3,
   "metadata": {},
   "outputs": [
    {
     "name": "stdout",
     "output_type": "stream",
     "text": [
      "49276d206b696c6c696e6720796f757220627261696e206c696b65206120706f69736f6e6f7573206d757368726f6f6d\n"
     ]
    }
   ],
   "source": [
    "import base64\n",
    "\n",
    "hex_data = \"49276d206b696c6c696e6720796f757220627261696e206c696b65206120706f69736f6e6f7573206d757368726f6f6d\"\n",
    "print(hex_data)"
   ]
  },
  {
   "cell_type": "code",
   "execution_count": 4,
   "metadata": {},
   "outputs": [
    {
     "name": "stdout",
     "output_type": "stream",
     "text": [
      "b\"I'm killing your brain like a poisonous mushroom\"\n"
     ]
    }
   ],
   "source": [
    "byte_data = bytes.fromhex(hex_data)\n",
    "print(byte_data)"
   ]
  },
  {
   "cell_type": "code",
   "execution_count": 5,
   "metadata": {},
   "outputs": [
    {
     "name": "stdout",
     "output_type": "stream",
     "text": [
      "b'SSdtIGtpbGxpbmcgeW91ciBicmFpbiBsaWtlIGEgcG9pc29ub3VzIG11c2hyb29t'\n"
     ]
    }
   ],
   "source": [
    "base64_encoding = base64.b64encode(byte_data)\n",
    "print(base64_encoding)"
   ]
  },
  {
   "cell_type": "markdown",
   "metadata": {},
   "source": [
    "## Set 1 - Challenge 2\n",
    "\n",
    "### Fixed XOR\n",
    "\n",
    "Write a function that takes two equal-length buffers and produces their XOR combination.\n",
    "\n",
    "If your function works properly, then when you feed it the string: \n",
    "\n",
    "> 1c0111001f010100061a024b53535009181c\n",
    "\n",
    "... after hex decoding, and when XOR'd against: \n",
    "\n",
    "> 686974207468652062756c6c277320657965\n",
    "\n",
    "... should produce: \n",
    "\n",
    "> 746865206b696420646f6e277420706c6179"
   ]
  },
  {
   "cell_type": "code",
   "execution_count": 59,
   "metadata": {},
   "outputs": [],
   "source": [
    "import binascii\n",
    "\n",
    "def encrypt(source,key):\n",
    "    cipher_text = list()\n",
    "    # check for equal length\n",
    "    if len(source) == len(key):        \n",
    "        # print source and key to standard out\n",
    "        print(\"PLAIN HEXT:\", source)\n",
    "        print(\"KEY HEXT:\", key)\n",
    "       \n",
    "        # convert source and key from hex to ascii bytes\n",
    "        input_bytes = bytes.fromhex(source)\n",
    "        key_bytes = bytes.fromhex(key)\n",
    "        \n",
    "        # print byte results to standard out\n",
    "        print(\"PLAIN TEXT:\", input_bytes)\n",
    "        print(\"KEY TEXT:\", key_bytes)\n",
    "\n",
    "        # operate xor on source and key\n",
    "        mutable_input = bytearray(input_bytes)\n",
    "        mutable_key = bytearray(key_bytes)\n",
    "\n",
    "        for a,b in zip(mutable_input, mutable_key):\n",
    "            cipher_bit = a^b            \n",
    "            cipher_text.append(cipher_bit)\n",
    "            \n",
    "        # print cipher text results to standard out\n",
    "        print(\"CIPHER TEXT:\", bytes(cipher_text))\n",
    "        print(\"CIPHER HEXT:\", bytes(cipher_text).hex())\n",
    "        \n",
    "    else: \n",
    "        print(\"Key length different\")\n",
    "    \n",
    " \n",
    "    "
   ]
  },
  {
   "cell_type": "code",
   "execution_count": 60,
   "metadata": {},
   "outputs": [
    {
     "name": "stdout",
     "output_type": "stream",
     "text": [
      "PLAIN HEXT: 1c0111001f010100061a024b53535009181c\n",
      "KEY HEXT: 686974207468652062756c6c277320657965\n",
      "PLAIN TEXT: b'\\x1c\\x01\\x11\\x00\\x1f\\x01\\x01\\x00\\x06\\x1a\\x02KSSP\\t\\x18\\x1c'\n",
      "KEY TEXT: b\"hit the bull's eye\"\n",
      "CIPHER TEXT: b\"the kid don't play\"\n",
      "CIPHER HEXT: 746865206b696420646f6e277420706c6179\n"
     ]
    }
   ],
   "source": [
    "input_string = \"1c0111001f010100061a024b53535009181c\"\n",
    "key_string = \"686974207468652062756c6c277320657965\"\n",
    "\n",
    "encrypt(input_string,key_string)"
   ]
  },
  {
   "cell_type": "code",
   "execution_count": null,
   "metadata": {},
   "outputs": [],
   "source": []
  },
  {
   "cell_type": "code",
   "execution_count": null,
   "metadata": {},
   "outputs": [],
   "source": []
  }
 ],
 "metadata": {
  "kernelspec": {
   "display_name": "Python 3",
   "language": "python",
   "name": "python3"
  },
  "language_info": {
   "codemirror_mode": {
    "name": "ipython",
    "version": 3
   },
   "file_extension": ".py",
   "mimetype": "text/x-python",
   "name": "python",
   "nbconvert_exporter": "python",
   "pygments_lexer": "ipython3",
   "version": "3.6.5"
  }
 },
 "nbformat": 4,
 "nbformat_minor": 2
}
